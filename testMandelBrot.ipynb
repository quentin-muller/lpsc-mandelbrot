{
 "cells": [
  {
   "cell_type": "markdown",
   "metadata": {},
   "source": [
    "# Outils de test "
   ]
  },
  {
   "cell_type": "code",
   "execution_count": 1,
   "metadata": {},
   "outputs": [],
   "source": [
    "import numpy as np\n",
    "import matplotlib.pyplot as plt\n",
    "\n",
    "from fixedpoint import FixedPoint"
   ]
  },
  {
   "cell_type": "code",
   "execution_count": 2,
   "metadata": {},
   "outputs": [],
   "source": [
    "def generateurMandelbrot(z_re, z_im, c_re, c_im):\n",
    "    z2_re = z_re**2\n",
    "    z2_im = z_im**2\n",
    "    r2 = z2_re + z_im\n",
    "\n",
    "    z_re1 = z2_re - z2_im + c_re\n",
    "    z_im1 = 2 * z_re*z_im + c_im\n",
    "\n",
    "    # entre chaque calcul tronc n apres la virgule n > m\n",
    "\n",
    "    return z_re1, z_im1, r2\n",
    "\n",
    "def iterateur(z_re, z_im, c_re, c_im, limR=4, limIter=100):\n",
    "    iteration = 0\n",
    "    r2 = 0\n",
    "    while((r2 < limR) and (iteration < limIter)):\n",
    "        (z_re, z_im, r2) = generateurMandelbrot(z_re, z_im, c_re, c_im)\n",
    "        iteration += 1\n",
    "    return iteration"
   ]
  },
  {
   "cell_type": "code",
   "execution_count": 3,
   "metadata": {},
   "outputs": [],
   "source": [
    "xlim = 1024\n",
    "ylim = 600\n",
    "limI = 100\n",
    "figure = np.zeros((xlim,ylim))\n",
    "xvec = np.linspace(-2,1,xlim)\n",
    "yvec = np.linspace(-1,1,ylim)\n"
   ]
  },
  {
   "cell_type": "code",
   "execution_count": 4,
   "metadata": {},
   "outputs": [],
   "source": [
    "for ix,x in enumerate(xvec):\n",
    "    for iy,y in enumerate(yvec):\n",
    "        i = iterateur(0,0,x,y,limIter=limI)\n",
    "        if(i==limI):  \n",
    "            figure[ix,iy] = 0\n",
    "        else:\n",
    "            figure[ix,iy] = 255\n"
   ]
  },
  {
   "cell_type": "code",
   "execution_count": 5,
   "metadata": {},
   "outputs": [
    {
     "data": {
      "image/png": "[encoded data removed]",
      "text/plain": [
       "<Figure size 432x288 with 1 Axes>"
      ]
     },
     "metadata": {
      "needs_background": "light"
     },
     "output_type": "display_data"
    }
   ],
   "source": [
    "plt.figure()\n",
    "plt.imshow(figure.T,cmap='gray')\n",
    "plt.show()"
   ]
  },
  {
   "cell_type": "code",
   "execution_count": 6,
   "metadata": {},
   "outputs": [
    {
     "data": {
      "text/plain": [
       "array([[255., 255., 255., ..., 255., 255., 255.],\n",
       "       [255., 255., 255., ..., 255., 255., 255.],\n",
       "       [255., 255., 255., ..., 255., 255., 255.],\n",
       "       ...,\n",
       "       [255., 255., 255., ..., 255., 255., 255.],\n",
       "       [255., 255., 255., ..., 255., 255., 255.],\n",
       "       [255., 255., 255., ..., 255., 255., 255.]])"
      ]
     },
     "execution_count": 6,
     "metadata": {},
     "output_type": "execute_result"
    }
   ],
   "source": [
    "figure"
   ]
  },
  {
   "cell_type": "markdown",
   "metadata": {},
   "source": [
    "## Passage des fonctions en virgule fixe"
   ]
  },
  {
   "cell_type": "code",
   "execution_count": 97,
   "metadata": {},
   "outputs": [],
   "source": [
    "# Paramètres importants\n",
    "m = 4\n",
    "n = 14"
   ]
  },
  {
   "cell_type": "code",
   "execution_count": 8,
   "metadata": {},
   "outputs": [],
   "source": [
    "# def resize(x : FixedPoint):\n",
    "#     print(x.qformat)\n",
    "#     start =x.n-n\n",
    "#     end = m + n-1\n",
    "#     new = f\"0b{x.bits[start:end]:0{m+n}b}\"\n",
    "#     print(f\"[{start}:{end}] -> {new}\")\n",
    "#     return FixedPoint(new, m=m, n=n, signed=True, str_base=2)\n",
    "def createFP(v):\n",
    "    return FixedPoint(v, m=m, n=n, signed=True, str_base=2)\n",
    "\n",
    "def resize(x : FixedPoint):\n",
    "    #x_str = str(x)\n",
    "    x_str = f\"{x.bits:0{x.m+x.n}b}\"\n",
    "    new = f\"0b{x_str[x.m-m:x.m+n]}\"\n",
    "    #print(f\"[{start}:{end}] -> {new}\")\n",
    "    return FixedPoint(new, m=m, n=n, signed=True, str_base=2)"
   ]
  },
  {
   "cell_type": "code",
   "execution_count": 76,
   "metadata": {},
   "outputs": [],
   "source": [
    "def FP_generateurMandelbrot(z_re : FixedPoint, z_im : FixedPoint, c_re : FixedPoint, c_im : FixedPoint):  \n",
    "    z2_re = z_re*z_re\n",
    "    z2_re = resize(z2_re)\n",
    "\n",
    "    z2_im = z_im*z_im\n",
    "    z2_im = resize(z2_im)\n",
    "\n",
    "    r2 = z2_re + z_im\n",
    "    r2 = resize(r2)\n",
    "\n",
    "    z_re1_int = z2_re - z2_im   \n",
    "    z_re1_int = resize(z_re1_int)\n",
    "    z_re1_int = z_re1_int + c_re\n",
    "    z_re1 = resize(z_re1_int)\n",
    "\n",
    "    z_im1_int = 2 * z_re\n",
    "    z_im1_int = resize(z_im1_int)\n",
    "    z_im1_int = z_im1_int*z_im\n",
    "    z_im1_int = resize(z_im1_int)\n",
    "    z_im1_int = z_im1_int + c_im\n",
    "    z_im1 = resize(z_im1_int)\n",
    "    # entre chaque calcul tronc n apres la virgule n > m\n",
    "\n",
    "    return z_re1, z_im1, r2\n",
    "\n",
    "def FP_iterateur(z_re, z_im, c_re, c_im, limR=4, limIter=100, save=False):\n",
    "    iteration = 0\n",
    "    r2 = 0\n",
    "    if save:\n",
    "        tabZ_re = []\n",
    "        tabZ_im = []\n",
    "    # prepare for FixedPoint  \n",
    "    z_re = createFP(z_re)\n",
    "    z_im = createFP(z_im)\n",
    "    c_re = createFP(c_re)\n",
    "    c_im = createFP(c_im)\n",
    "    limFP = createFP(limR)\n",
    "    while((r2 < limFP) and (iteration < limIter)):\n",
    "        (z_re, z_im, r2) = FP_generateurMandelbrot(z_re, z_im, c_re, c_im)\n",
    "        if save:\n",
    "            tabZ_re.append(z_re)\n",
    "            tabZ_im.append(z_im)\n",
    "        print(float(r2))\n",
    "        iteration += 1\n",
    "    if save:\n",
    "        return iteration, tabZ_re, tabZ_im\n",
    "    return iteration"
   ]
  },
  {
   "cell_type": "code",
   "execution_count": 10,
   "metadata": {},
   "outputs": [],
   "source": [
    "xlim = 100\n",
    "ylim = 60\n",
    "limI = 30\n",
    "\n",
    "figure = np.zeros((xlim,ylim))\n",
    "xvec = np.linspace(-2,1,xlim)\n",
    "yvec = np.linspace(-1,1,ylim)"
   ]
  },
  {
   "cell_type": "code",
   "execution_count": 11,
   "metadata": {},
   "outputs": [],
   "source": [
    "for ix,x in enumerate(xvec):\n",
    "    for iy,y in enumerate(yvec):\n",
    "        i = FP_iterateur(0,0,x,y,limIter=limI)\n",
    "        if(i==limI):  \n",
    "            figure[ix,iy] = 0\n",
    "        else:\n",
    "            figure[ix,iy] = 255"
   ]
  },
  {
   "cell_type": "code",
   "execution_count": 12,
   "metadata": {},
   "outputs": [
    {
     "data": {
      "image/png": "[encoded data removed]",
      "text/plain": [
       "<Figure size 432x288 with 1 Axes>"
      ]
     },
     "metadata": {
      "needs_background": "light"
     },
     "output_type": "display_data"
    }
   ],
   "source": [
    "plt.figure()\n",
    "plt.imshow(figure.T,cmap='gray')\n",
    "plt.show()"
   ]
  },
  {
   "cell_type": "code",
   "execution_count": 109,
   "metadata": {},
   "outputs": [
    {
     "name": "stdout",
     "output_type": "stream",
     "text": [
      "0.0\n",
      "4.0\n",
      "111000000000000000\n",
      "000000000000000000 \n",
      "\n",
      "[FixedPoint('0b111000000000000000', signed=1, m=4, n=14, overflow='clamp', rounding='convergent', overflow_alert='error', mismatch_alert='warning', implicit_cast_alert='warning', str_base=2), FixedPoint('0b1000000000000000', signed=1, m=4, n=14, overflow='clamp', rounding='convergent', overflow_alert='error', mismatch_alert='warning', implicit_cast_alert='warning', str_base=2)] \n",
      "\n",
      "[FixedPoint('0b0', signed=1, m=4, n=14, overflow='clamp', rounding='convergent', overflow_alert='error', mismatch_alert='warning', implicit_cast_alert='warning', str_base=2), FixedPoint('0b0', signed=1, m=4, n=14, overflow='clamp', rounding='convergent', overflow_alert='error', mismatch_alert='warning', implicit_cast_alert='warning', str_base=2)]\n"
     ]
    }
   ],
   "source": [
    "[i,t1_re, t1_im] = FP_iterateur(0,0,-2,0,limIter=limI,save=True)\n",
    "print(createFP(-2))\n",
    "print(createFP(0),'\\n')\n",
    "print(t1_re,'\\n')\n",
    "print(t1_im)"
   ]
  },
  {
   "cell_type": "code",
   "execution_count": 110,
   "metadata": {},
   "outputs": [
    {
     "name": "stdout",
     "output_type": "stream",
     "text": [
      "0.0\n",
      "1.5\n",
      "-0.4375\n",
      "2.16015625\n",
      "-1.258056640625\n",
      "7.74639892578125\n",
      "nb iteration 6\n",
      "111100000000000000\n",
      "000010000000000000 \n",
      "\n",
      "[FixedPoint('0b111100000000000000', signed=1, m=4, n=14, overflow='clamp', rounding='convergent', overflow_alert='error', mismatch_alert='warning', implicit_cast_alert='warning', str_base=2), FixedPoint('0b111111000000000000', signed=1, m=4, n=14, overflow='clamp', rounding='convergent', overflow_alert='error', mismatch_alert='warning', implicit_cast_alert='warning', str_base=2), FixedPoint('0b111011010000000000', signed=1, m=4, n=14, overflow='clamp', rounding='convergent', overflow_alert='error', mismatch_alert='warning', implicit_cast_alert='warning', str_base=2), FixedPoint('0b111111011001000000', signed=1, m=4, n=14, overflow='clamp', rounding='convergent', overflow_alert='error', mismatch_alert='warning', implicit_cast_alert='warning', str_base=2), FixedPoint('0b110101100001101100', signed=1, m=4, n=14, overflow='clamp', rounding='convergent', overflow_alert='error', mismatch_alert='warning', implicit_cast_alert='warning', str_base=2), FixedPoint('0b10100010000001101', signed=1, m=4, n=14, overflow='clamp', rounding='convergent', overflow_alert='error', mismatch_alert='warning', implicit_cast_alert='warning', str_base=2)] \n",
      "\n",
      "[FixedPoint('0b10000000000000', signed=1, m=4, n=14, overflow='clamp', rounding='convergent', overflow_alert='error', mismatch_alert='warning', implicit_cast_alert='warning', str_base=2), FixedPoint('0b111110000000000000', signed=1, m=4, n=14, overflow='clamp', rounding='convergent', overflow_alert='error', mismatch_alert='warning', implicit_cast_alert='warning', str_base=2), FixedPoint('0b11000000000000', signed=1, m=4, n=14, overflow='clamp', rounding='convergent', overflow_alert='error', mismatch_alert='warning', implicit_cast_alert='warning', str_base=2), FixedPoint('0b111010111000000000', signed=1, m=4, n=14, overflow='clamp', rounding='convergent', overflow_alert='error', mismatch_alert='warning', implicit_cast_alert='warning', str_base=2), FixedPoint('0b11100011111100', signed=1, m=4, n=14, overflow='clamp', rounding='convergent', overflow_alert='error', mismatch_alert='warning', implicit_cast_alert='warning', str_base=2), FixedPoint('0b101111010110010101', signed=1, m=4, n=14, overflow='clamp', rounding='convergent', overflow_alert='error', mismatch_alert='warning', implicit_cast_alert='warning', str_base=2)]\n"
     ]
    }
   ],
   "source": [
    "[i,t1_re, t1_im] = FP_iterateur(0,0,-1,0.5,limIter=limI,save=True)\n",
    "print(\"nb iteration\",i)\n",
    "print(createFP(-1))\n",
    "print(createFP(0.5),'\\n')\n",
    "print(t1_re,'\\n')\n",
    "print(t1_im)"
   ]
  },
  {
   "cell_type": "code",
   "execution_count": 111,
   "metadata": {},
   "outputs": [
    {
     "name": "stdout",
     "output_type": "stream",
     "text": [
      "0.0\n",
      "0.0\n",
      "0.0\n",
      "0.0\n",
      "0.0\n",
      "0.0\n",
      "0.0\n",
      "0.0\n",
      "0.0\n",
      "0.0\n",
      "0.0\n",
      "0.0\n",
      "0.0\n",
      "0.0\n",
      "0.0\n",
      "0.0\n",
      "0.0\n",
      "0.0\n",
      "0.0\n",
      "0.0\n",
      "0.0\n",
      "0.0\n",
      "0.0\n",
      "0.0\n",
      "0.0\n",
      "0.0\n",
      "0.0\n",
      "0.0\n",
      "0.0\n",
      "0.0\n",
      "000000000000000000\n",
      "000000000000000000 \n",
      "\n",
      "[FixedPoint('0b0', signed=1, m=4, n=14, overflow='clamp', rounding='convergent', overflow_alert='error', mismatch_alert='warning', implicit_cast_alert='warning', str_base=2), FixedPoint('0b0', signed=1, m=4, n=14, overflow='clamp', rounding='convergent', overflow_alert='error', mismatch_alert='warning', implicit_cast_alert='warning', str_base=2), FixedPoint('0b0', signed=1, m=4, n=14, overflow='clamp', rounding='convergent', overflow_alert='error', mismatch_alert='warning', implicit_cast_alert='warning', str_base=2), FixedPoint('0b0', signed=1, m=4, n=14, overflow='clamp', rounding='convergent', overflow_alert='error', mismatch_alert='warning', implicit_cast_alert='warning', str_base=2), FixedPoint('0b0', signed=1, m=4, n=14, overflow='clamp', rounding='convergent', overflow_alert='error', mismatch_alert='warning', implicit_cast_alert='warning', str_base=2), FixedPoint('0b0', signed=1, m=4, n=14, overflow='clamp', rounding='convergent', overflow_alert='error', mismatch_alert='warning', implicit_cast_alert='warning', str_base=2), FixedPoint('0b0', signed=1, m=4, n=14, overflow='clamp', rounding='convergent', overflow_alert='error', mismatch_alert='warning', implicit_cast_alert='warning', str_base=2), FixedPoint('0b0', signed=1, m=4, n=14, overflow='clamp', rounding='convergent', overflow_alert='error', mismatch_alert='warning', implicit_cast_alert='warning', str_base=2), FixedPoint('0b0', signed=1, m=4, n=14, overflow='clamp', rounding='convergent', overflow_alert='error', mismatch_alert='warning', implicit_cast_alert='warning', str_base=2), FixedPoint('0b0', signed=1, m=4, n=14, overflow='clamp', rounding='convergent', overflow_alert='error', mismatch_alert='warning', implicit_cast_alert='warning', str_base=2), FixedPoint('0b0', signed=1, m=4, n=14, overflow='clamp', rounding='convergent', overflow_alert='error', mismatch_alert='warning', implicit_cast_alert='warning', str_base=2), FixedPoint('0b0', signed=1, m=4, n=14, overflow='clamp', rounding='convergent', overflow_alert='error', mismatch_alert='warning', implicit_cast_alert='warning', str_base=2), FixedPoint('0b0', signed=1, m=4, n=14, overflow='clamp', rounding='convergent', overflow_alert='error', mismatch_alert='warning', implicit_cast_alert='warning', str_base=2), FixedPoint('0b0', signed=1, m=4, n=14, overflow='clamp', rounding='convergent', overflow_alert='error', mismatch_alert='warning', implicit_cast_alert='warning', str_base=2), FixedPoint('0b0', signed=1, m=4, n=14, overflow='clamp', rounding='convergent', overflow_alert='error', mismatch_alert='warning', implicit_cast_alert='warning', str_base=2), FixedPoint('0b0', signed=1, m=4, n=14, overflow='clamp', rounding='convergent', overflow_alert='error', mismatch_alert='warning', implicit_cast_alert='warning', str_base=2), FixedPoint('0b0', signed=1, m=4, n=14, overflow='clamp', rounding='convergent', overflow_alert='error', mismatch_alert='warning', implicit_cast_alert='warning', str_base=2), FixedPoint('0b0', signed=1, m=4, n=14, overflow='clamp', rounding='convergent', overflow_alert='error', mismatch_alert='warning', implicit_cast_alert='warning', str_base=2), FixedPoint('0b0', signed=1, m=4, n=14, overflow='clamp', rounding='convergent', overflow_alert='error', mismatch_alert='warning', implicit_cast_alert='warning', str_base=2), FixedPoint('0b0', signed=1, m=4, n=14, overflow='clamp', rounding='convergent', overflow_alert='error', mismatch_alert='warning', implicit_cast_alert='warning', str_base=2), FixedPoint('0b0', signed=1, m=4, n=14, overflow='clamp', rounding='convergent', overflow_alert='error', mismatch_alert='warning', implicit_cast_alert='warning', str_base=2), FixedPoint('0b0', signed=1, m=4, n=14, overflow='clamp', rounding='convergent', overflow_alert='error', mismatch_alert='warning', implicit_cast_alert='warning', str_base=2), FixedPoint('0b0', signed=1, m=4, n=14, overflow='clamp', rounding='convergent', overflow_alert='error', mismatch_alert='warning', implicit_cast_alert='warning', str_base=2), FixedPoint('0b0', signed=1, m=4, n=14, overflow='clamp', rounding='convergent', overflow_alert='error', mismatch_alert='warning', implicit_cast_alert='warning', str_base=2), FixedPoint('0b0', signed=1, m=4, n=14, overflow='clamp', rounding='convergent', overflow_alert='error', mismatch_alert='warning', implicit_cast_alert='warning', str_base=2), FixedPoint('0b0', signed=1, m=4, n=14, overflow='clamp', rounding='convergent', overflow_alert='error', mismatch_alert='warning', implicit_cast_alert='warning', str_base=2), FixedPoint('0b0', signed=1, m=4, n=14, overflow='clamp', rounding='convergent', overflow_alert='error', mismatch_alert='warning', implicit_cast_alert='warning', str_base=2), FixedPoint('0b0', signed=1, m=4, n=14, overflow='clamp', rounding='convergent', overflow_alert='error', mismatch_alert='warning', implicit_cast_alert='warning', str_base=2), FixedPoint('0b0', signed=1, m=4, n=14, overflow='clamp', rounding='convergent', overflow_alert='error', mismatch_alert='warning', implicit_cast_alert='warning', str_base=2), FixedPoint('0b0', signed=1, m=4, n=14, overflow='clamp', rounding='convergent', overflow_alert='error', mismatch_alert='warning', implicit_cast_alert='warning', str_base=2)] \n",
      "\n",
      "[FixedPoint('0b0', signed=1, m=4, n=14, overflow='clamp', rounding='convergent', overflow_alert='error', mismatch_alert='warning', implicit_cast_alert='warning', str_base=2), FixedPoint('0b0', signed=1, m=4, n=14, overflow='clamp', rounding='convergent', overflow_alert='error', mismatch_alert='warning', implicit_cast_alert='warning', str_base=2), FixedPoint('0b0', signed=1, m=4, n=14, overflow='clamp', rounding='convergent', overflow_alert='error', mismatch_alert='warning', implicit_cast_alert='warning', str_base=2), FixedPoint('0b0', signed=1, m=4, n=14, overflow='clamp', rounding='convergent', overflow_alert='error', mismatch_alert='warning', implicit_cast_alert='warning', str_base=2), FixedPoint('0b0', signed=1, m=4, n=14, overflow='clamp', rounding='convergent', overflow_alert='error', mismatch_alert='warning', implicit_cast_alert='warning', str_base=2), FixedPoint('0b0', signed=1, m=4, n=14, overflow='clamp', rounding='convergent', overflow_alert='error', mismatch_alert='warning', implicit_cast_alert='warning', str_base=2), FixedPoint('0b0', signed=1, m=4, n=14, overflow='clamp', rounding='convergent', overflow_alert='error', mismatch_alert='warning', implicit_cast_alert='warning', str_base=2), FixedPoint('0b0', signed=1, m=4, n=14, overflow='clamp', rounding='convergent', overflow_alert='error', mismatch_alert='warning', implicit_cast_alert='warning', str_base=2), FixedPoint('0b0', signed=1, m=4, n=14, overflow='clamp', rounding='convergent', overflow_alert='error', mismatch_alert='warning', implicit_cast_alert='warning', str_base=2), FixedPoint('0b0', signed=1, m=4, n=14, overflow='clamp', rounding='convergent', overflow_alert='error', mismatch_alert='warning', implicit_cast_alert='warning', str_base=2), FixedPoint('0b0', signed=1, m=4, n=14, overflow='clamp', rounding='convergent', overflow_alert='error', mismatch_alert='warning', implicit_cast_alert='warning', str_base=2), FixedPoint('0b0', signed=1, m=4, n=14, overflow='clamp', rounding='convergent', overflow_alert='error', mismatch_alert='warning', implicit_cast_alert='warning', str_base=2), FixedPoint('0b0', signed=1, m=4, n=14, overflow='clamp', rounding='convergent', overflow_alert='error', mismatch_alert='warning', implicit_cast_alert='warning', str_base=2), FixedPoint('0b0', signed=1, m=4, n=14, overflow='clamp', rounding='convergent', overflow_alert='error', mismatch_alert='warning', implicit_cast_alert='warning', str_base=2), FixedPoint('0b0', signed=1, m=4, n=14, overflow='clamp', rounding='convergent', overflow_alert='error', mismatch_alert='warning', implicit_cast_alert='warning', str_base=2), FixedPoint('0b0', signed=1, m=4, n=14, overflow='clamp', rounding='convergent', overflow_alert='error', mismatch_alert='warning', implicit_cast_alert='warning', str_base=2), FixedPoint('0b0', signed=1, m=4, n=14, overflow='clamp', rounding='convergent', overflow_alert='error', mismatch_alert='warning', implicit_cast_alert='warning', str_base=2), FixedPoint('0b0', signed=1, m=4, n=14, overflow='clamp', rounding='convergent', overflow_alert='error', mismatch_alert='warning', implicit_cast_alert='warning', str_base=2), FixedPoint('0b0', signed=1, m=4, n=14, overflow='clamp', rounding='convergent', overflow_alert='error', mismatch_alert='warning', implicit_cast_alert='warning', str_base=2), FixedPoint('0b0', signed=1, m=4, n=14, overflow='clamp', rounding='convergent', overflow_alert='error', mismatch_alert='warning', implicit_cast_alert='warning', str_base=2), FixedPoint('0b0', signed=1, m=4, n=14, overflow='clamp', rounding='convergent', overflow_alert='error', mismatch_alert='warning', implicit_cast_alert='warning', str_base=2), FixedPoint('0b0', signed=1, m=4, n=14, overflow='clamp', rounding='convergent', overflow_alert='error', mismatch_alert='warning', implicit_cast_alert='warning', str_base=2), FixedPoint('0b0', signed=1, m=4, n=14, overflow='clamp', rounding='convergent', overflow_alert='error', mismatch_alert='warning', implicit_cast_alert='warning', str_base=2), FixedPoint('0b0', signed=1, m=4, n=14, overflow='clamp', rounding='convergent', overflow_alert='error', mismatch_alert='warning', implicit_cast_alert='warning', str_base=2), FixedPoint('0b0', signed=1, m=4, n=14, overflow='clamp', rounding='convergent', overflow_alert='error', mismatch_alert='warning', implicit_cast_alert='warning', str_base=2), FixedPoint('0b0', signed=1, m=4, n=14, overflow='clamp', rounding='convergent', overflow_alert='error', mismatch_alert='warning', implicit_cast_alert='warning', str_base=2), FixedPoint('0b0', signed=1, m=4, n=14, overflow='clamp', rounding='convergent', overflow_alert='error', mismatch_alert='warning', implicit_cast_alert='warning', str_base=2), FixedPoint('0b0', signed=1, m=4, n=14, overflow='clamp', rounding='convergent', overflow_alert='error', mismatch_alert='warning', implicit_cast_alert='warning', str_base=2), FixedPoint('0b0', signed=1, m=4, n=14, overflow='clamp', rounding='convergent', overflow_alert='error', mismatch_alert='warning', implicit_cast_alert='warning', str_base=2), FixedPoint('0b0', signed=1, m=4, n=14, overflow='clamp', rounding='convergent', overflow_alert='error', mismatch_alert='warning', implicit_cast_alert='warning', str_base=2)]\n"
     ]
    }
   ],
   "source": [
    "[i,t1_re, t1_im] = FP_iterateur(0,0,0,0,limIter=limI,save=True)\n",
    "print(createFP(0))\n",
    "print(createFP(0),'\\n')\n",
    "print(t1_re,'\\n')\n",
    "print(t1_im)"
   ]
  },
  {
   "cell_type": "code",
   "execution_count": null,
   "metadata": {},
   "outputs": [],
   "source": []
  }
 ],
 "metadata": {
  "interpreter": {
   "hash": "2823d83d0138f4e88bebb1ac6893599dadbc35aa0bdabe1fb606adea8faab8b6"
  },
  "kernelspec": {
   "display_name": "Python 3.10.0 64-bit",
   "language": "python",
   "name": "python3"
  },
  "language_info": {
   "codemirror_mode": {
    "name": "ipython",
    "version": 3
   },
   "file_extension": ".py",
   "mimetype": "text/x-python",
   "name": "python",
   "nbconvert_exporter": "python",
   "pygments_lexer": "ipython3",
   "version": "3.10.0"
  },
  "orig_nbformat": 4
 },
 "nbformat": 4,
 "nbformat_minor": 2
}
