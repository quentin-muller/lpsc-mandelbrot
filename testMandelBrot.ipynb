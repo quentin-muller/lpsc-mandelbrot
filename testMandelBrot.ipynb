{
 "cells": [
  {
   "cell_type": "markdown",
   "metadata": {},
   "source": [
    "# Outils de test "
   ]
  },
  {
   "cell_type": "code",
   "execution_count": 1,
   "metadata": {},
   "outputs": [],
   "source": [
    "import numpy as np\n",
    "import matplotlib.pyplot as plt\n",
    "\n",
    "from fixedpoint import FixedPoint"
   ]
  },
  {
   "cell_type": "code",
   "execution_count": 9,
   "metadata": {},
   "outputs": [],
   "source": [
    "def generateurMandelbrot(z_re, z_im, c_re, c_im):\n",
    "    z2_re = z_re**2\n",
    "    z2_im = z_im**2\n",
    "    r2 = z2_re + z_im\n",
    "\n",
    "    z_re1 = z2_re - z2_im + c_re\n",
    "    z_im1 = 2 * z_re*z_im + c_im\n",
    "\n",
    "    # entre chaque calcul tronc n apres la virgule n > m\n",
    "\n",
    "    return z_re1, z_im1, r2\n",
    "\n",
    "def iterateur(z_re, z_im, c_re, c_im, limR=4, limIter=100):\n",
    "    iteration = 0\n",
    "    r2 = 0\n",
    "    while((r2 < limR) and (iteration < limIter)):\n",
    "        (z_re, z_im, r2) = generateurMandelbrot(z_re, z_im, c_re, c_im)\n",
    "        iteration += 1\n",
    "    return iteration"
   ]
  },
  {
   "cell_type": "code",
   "execution_count": 3,
   "metadata": {},
   "outputs": [],
   "source": [
    "xlim = 1024\n",
    "ylim = 600\n",
    "\n",
    "figure = np.zeros((xlim,ylim))\n",
    "xvec = np.linspace(-2,1,xlim)\n",
    "yvec = np.linspace(-1,1,ylim)\n"
   ]
  },
  {
   "cell_type": "code",
   "execution_count": 4,
   "metadata": {},
   "outputs": [],
   "source": [
    "for ix,x in enumerate(xvec):\n",
    "    for iy,y in enumerate(yvec):\n",
    "        i = iterateur(0,0,x,y,limIter=100)\n",
    "        if(i==100):  \n",
    "            figure[ix,iy] = 0\n",
    "        else:\n",
    "            figure[ix,iy] = 255\n"
   ]
  },
  {
   "cell_type": "code",
   "execution_count": 5,
   "metadata": {},
   "outputs": [
    {
     "data": {
      "image/png": "[encoded data removed]",
      "text/plain": [
       "<Figure size 432x288 with 1 Axes>"
      ]
     },
     "metadata": {
      "needs_background": "light"
     },
     "output_type": "display_data"
    }
   ],
   "source": [
    "plt.figure()\n",
    "plt.imshow(figure.T,cmap='gray')\n",
    "plt.show()"
   ]
  },
  {
   "cell_type": "code",
   "execution_count": 6,
   "metadata": {},
   "outputs": [
    {
     "data": {
      "text/plain": [
       "array([[255., 255., 255., ..., 255., 255., 255.],\n",
       "       [255., 255., 255., ..., 255., 255., 255.],\n",
       "       [255., 255., 255., ..., 255., 255., 255.],\n",
       "       ...,\n",
       "       [255., 255., 255., ..., 255., 255., 255.],\n",
       "       [255., 255., 255., ..., 255., 255., 255.],\n",
       "       [255., 255., 255., ..., 255., 255., 255.]])"
      ]
     },
     "execution_count": 6,
     "metadata": {},
     "output_type": "execute_result"
    }
   ],
   "source": [
    "figure"
   ]
  },
  {
   "cell_type": "markdown",
   "metadata": {},
   "source": [
    "## Passage des fonctions en virgule fixe"
   ]
  },
  {
   "cell_type": "code",
   "execution_count": 8,
   "metadata": {},
   "outputs": [],
   "source": [
    "# Paramètres importants\n",
    "m = 4\n",
    "n = 14"
   ]
  },
  {
   "cell_type": "code",
   "execution_count": 17,
   "metadata": {},
   "outputs": [],
   "source": [
    "# def resize(x : FixedPoint):\n",
    "#     print(x.qformat)\n",
    "#     start =x.n-n\n",
    "#     end = m + n-1\n",
    "#     new = f\"0b{x.bits[start:end]:0{m+n}b}\"\n",
    "#     print(f\"[{start}:{end}] -> {new}\")\n",
    "#     return FixedPoint(new, m=m, n=n, signed=True, str_base=2)\n",
    "def createFP(v):\n",
    "    FixedPoint(v, m=m, n=n, signed=True, str_base=2)\n",
    "\n",
    "def resize(x : FixedPoint):\n",
    "    #x_str = str(x)\n",
    "    x_str = f\"{x.bits:0{x.m+x.n}b}\"\n",
    "    new = f\"0b{x_str[x.m-m:x.m+n]}\"\n",
    "    #print(f\"[{start}:{end}] -> {new}\")\n",
    "    return FixedPoint(new, m=m, n=n, signed=True, str_base=2)"
   ]
  },
  {
   "cell_type": "code",
   "execution_count": 26,
   "metadata": {},
   "outputs": [],
   "source": [
    "def FP_generateurMandelbrot(z_re : FixedPoint, z_im : FixedPoint, c_re : FixedPoint, c_im : FixedPoint):  \n",
    "    z2_re = z_re*z_re\n",
    "    z2_re = resize(z2_re)\n",
    "\n",
    "    z2_im = z_im*z_im\n",
    "    z2_im = resize(z2_im)\n",
    "\n",
    "    r2 = z2_re + z_im\n",
    "    r2 = resize(r2)\n",
    "\n",
    "    z_re1_int = z2_re - z2_im   \n",
    "    z_re1_int = resize(z_re1_int)\n",
    "    z_re1_int = z_re1_int + c_re\n",
    "    z_re1 = resize(z_re1_int)\n",
    "\n",
    "    z_im1_int = 2 * z_re\n",
    "    z_im1_int = resize(z_im1_int)\n",
    "    z_im1_int = z_im1_int*z_im\n",
    "    z_im1_int = resize(z_im1_int)\n",
    "    z_im1_int = z_im1_int + c_im\n",
    "    z_im1 = resize(z_im1_int)\n",
    "    # entre chaque calcul tronc n apres la virgule n > m\n",
    "\n",
    "    return z_re1, z_im1, r2\n",
    "\n",
    "def FP_iterateur(z_re, z_im, c_re, c_im, limR=4, limIter=100):\n",
    "    iteration = 0\n",
    "    r2 = 0\n",
    "    # prepare for FixedPoint  \n",
    "    z_re = createFP(z_re)\n",
    "    z_im = createFP(z_im)\n",
    "    c_re = createFP(c_re)\n",
    "    c_im = createFP(c_im)\n",
    "\n",
    "    while((r2 < limR) and (iteration < limIter)):\n",
    "        (z_re, z_im, r2) = FP_generateurMandelbrot(z_re, z_im, c_re, c_im)\n",
    "        iteration += 1\n",
    "    return iteration"
   ]
  },
  {
   "cell_type": "code",
   "execution_count": 27,
   "metadata": {},
   "outputs": [],
   "source": [
    "xlim = 1024\n",
    "ylim = 600\n",
    "\n",
    "figure = np.zeros((xlim,ylim))\n",
    "xvec = np.linspace(-2,1,xlim)\n",
    "yvec = np.linspace(-1,1,ylim)"
   ]
  },
  {
   "cell_type": "code",
   "execution_count": 28,
   "metadata": {},
   "outputs": [],
   "source": [
    "f = FixedPoint(2)"
   ]
  },
  {
   "cell_type": "code",
   "execution_count": 29,
   "metadata": {},
   "outputs": [
    {
     "ename": "TypeError",
     "evalue": "unsupported operand type(s) for *: 'NoneType' and 'NoneType'",
     "output_type": "error",
     "traceback": [
      "\u001b[1;31m---------------------------------------------------------------------------\u001b[0m",
      "\u001b[1;31mTypeError\u001b[0m                                 Traceback (most recent call last)",
      "\u001b[1;32m~\\AppData\\Local\\Temp/ipykernel_7292/983670399.py\u001b[0m in \u001b[0;36m<module>\u001b[1;34m\u001b[0m\n\u001b[0;32m      1\u001b[0m \u001b[1;32mfor\u001b[0m \u001b[0mix\u001b[0m\u001b[1;33m,\u001b[0m\u001b[0mx\u001b[0m \u001b[1;32min\u001b[0m \u001b[0menumerate\u001b[0m\u001b[1;33m(\u001b[0m\u001b[0mxvec\u001b[0m\u001b[1;33m)\u001b[0m\u001b[1;33m:\u001b[0m\u001b[1;33m\u001b[0m\u001b[1;33m\u001b[0m\u001b[0m\n\u001b[0;32m      2\u001b[0m     \u001b[1;32mfor\u001b[0m \u001b[0miy\u001b[0m\u001b[1;33m,\u001b[0m\u001b[0my\u001b[0m \u001b[1;32min\u001b[0m \u001b[0menumerate\u001b[0m\u001b[1;33m(\u001b[0m\u001b[0myvec\u001b[0m\u001b[1;33m)\u001b[0m\u001b[1;33m:\u001b[0m\u001b[1;33m\u001b[0m\u001b[1;33m\u001b[0m\u001b[0m\n\u001b[1;32m----> 3\u001b[1;33m         \u001b[0mi\u001b[0m \u001b[1;33m=\u001b[0m \u001b[0mFP_iterateur\u001b[0m\u001b[1;33m(\u001b[0m\u001b[1;36m0\u001b[0m\u001b[1;33m,\u001b[0m\u001b[1;36m0\u001b[0m\u001b[1;33m,\u001b[0m\u001b[0mx\u001b[0m\u001b[1;33m,\u001b[0m\u001b[0my\u001b[0m\u001b[1;33m,\u001b[0m\u001b[0mlimIter\u001b[0m\u001b[1;33m=\u001b[0m\u001b[1;36m100\u001b[0m\u001b[1;33m)\u001b[0m\u001b[1;33m\u001b[0m\u001b[1;33m\u001b[0m\u001b[0m\n\u001b[0m\u001b[0;32m      4\u001b[0m         \u001b[1;32mif\u001b[0m\u001b[1;33m(\u001b[0m\u001b[0mi\u001b[0m\u001b[1;33m==\u001b[0m\u001b[1;36m100\u001b[0m\u001b[1;33m)\u001b[0m\u001b[1;33m:\u001b[0m\u001b[1;33m\u001b[0m\u001b[1;33m\u001b[0m\u001b[0m\n\u001b[0;32m      5\u001b[0m             \u001b[0mfigure\u001b[0m\u001b[1;33m[\u001b[0m\u001b[0mix\u001b[0m\u001b[1;33m,\u001b[0m\u001b[0miy\u001b[0m\u001b[1;33m]\u001b[0m \u001b[1;33m=\u001b[0m \u001b[1;36m0\u001b[0m\u001b[1;33m\u001b[0m\u001b[1;33m\u001b[0m\u001b[0m\n",
      "\u001b[1;32m~\\AppData\\Local\\Temp/ipykernel_7292/939742427.py\u001b[0m in \u001b[0;36mFP_iterateur\u001b[1;34m(z_re, z_im, c_re, c_im, limR, limIter)\u001b[0m\n\u001b[0;32m     32\u001b[0m \u001b[1;33m\u001b[0m\u001b[0m\n\u001b[0;32m     33\u001b[0m     \u001b[1;32mwhile\u001b[0m\u001b[1;33m(\u001b[0m\u001b[1;33m(\u001b[0m\u001b[0mr2\u001b[0m \u001b[1;33m<\u001b[0m \u001b[0mlimR\u001b[0m\u001b[1;33m)\u001b[0m \u001b[1;32mand\u001b[0m \u001b[1;33m(\u001b[0m\u001b[0miteration\u001b[0m \u001b[1;33m<\u001b[0m \u001b[0mlimIter\u001b[0m\u001b[1;33m)\u001b[0m\u001b[1;33m)\u001b[0m\u001b[1;33m:\u001b[0m\u001b[1;33m\u001b[0m\u001b[1;33m\u001b[0m\u001b[0m\n\u001b[1;32m---> 34\u001b[1;33m         \u001b[1;33m(\u001b[0m\u001b[0mz_re\u001b[0m\u001b[1;33m,\u001b[0m \u001b[0mz_im\u001b[0m\u001b[1;33m,\u001b[0m \u001b[0mr2\u001b[0m\u001b[1;33m)\u001b[0m \u001b[1;33m=\u001b[0m \u001b[0mFP_generateurMandelbrot\u001b[0m\u001b[1;33m(\u001b[0m\u001b[0mz_re\u001b[0m\u001b[1;33m,\u001b[0m \u001b[0mz_im\u001b[0m\u001b[1;33m,\u001b[0m \u001b[0mc_re\u001b[0m\u001b[1;33m,\u001b[0m \u001b[0mc_im\u001b[0m\u001b[1;33m)\u001b[0m\u001b[1;33m\u001b[0m\u001b[1;33m\u001b[0m\u001b[0m\n\u001b[0m\u001b[0;32m     35\u001b[0m         \u001b[0miteration\u001b[0m \u001b[1;33m+=\u001b[0m \u001b[1;36m1\u001b[0m\u001b[1;33m\u001b[0m\u001b[1;33m\u001b[0m\u001b[0m\n\u001b[0;32m     36\u001b[0m     \u001b[1;32mreturn\u001b[0m \u001b[0miteration\u001b[0m\u001b[1;33m\u001b[0m\u001b[1;33m\u001b[0m\u001b[0m\n",
      "\u001b[1;32m~\\AppData\\Local\\Temp/ipykernel_7292/939742427.py\u001b[0m in \u001b[0;36mFP_generateurMandelbrot\u001b[1;34m(z_re, z_im, c_re, c_im)\u001b[0m\n\u001b[0;32m      1\u001b[0m \u001b[1;32mdef\u001b[0m \u001b[0mFP_generateurMandelbrot\u001b[0m\u001b[1;33m(\u001b[0m\u001b[0mz_re\u001b[0m \u001b[1;33m:\u001b[0m \u001b[0mFixedPoint\u001b[0m\u001b[1;33m,\u001b[0m \u001b[0mz_im\u001b[0m \u001b[1;33m:\u001b[0m \u001b[0mFixedPoint\u001b[0m\u001b[1;33m,\u001b[0m \u001b[0mc_re\u001b[0m \u001b[1;33m:\u001b[0m \u001b[0mFixedPoint\u001b[0m\u001b[1;33m,\u001b[0m \u001b[0mc_im\u001b[0m \u001b[1;33m:\u001b[0m \u001b[0mFixedPoint\u001b[0m\u001b[1;33m)\u001b[0m\u001b[1;33m:\u001b[0m\u001b[1;33m\u001b[0m\u001b[1;33m\u001b[0m\u001b[0m\n\u001b[1;32m----> 2\u001b[1;33m     \u001b[0mz2_re\u001b[0m \u001b[1;33m=\u001b[0m \u001b[0mz_re\u001b[0m\u001b[1;33m*\u001b[0m\u001b[0mz_re\u001b[0m\u001b[1;33m\u001b[0m\u001b[1;33m\u001b[0m\u001b[0m\n\u001b[0m\u001b[0;32m      3\u001b[0m     \u001b[0mz2_re\u001b[0m \u001b[1;33m=\u001b[0m \u001b[0mresize\u001b[0m\u001b[1;33m(\u001b[0m\u001b[0mz2_re\u001b[0m\u001b[1;33m)\u001b[0m\u001b[1;33m\u001b[0m\u001b[1;33m\u001b[0m\u001b[0m\n\u001b[0;32m      4\u001b[0m \u001b[1;33m\u001b[0m\u001b[0m\n\u001b[0;32m      5\u001b[0m     \u001b[0mz2_im\u001b[0m \u001b[1;33m=\u001b[0m \u001b[0mz_im\u001b[0m\u001b[1;33m*\u001b[0m\u001b[0mz_im\u001b[0m\u001b[1;33m\u001b[0m\u001b[1;33m\u001b[0m\u001b[0m\n",
      "\u001b[1;31mTypeError\u001b[0m: unsupported operand type(s) for *: 'NoneType' and 'NoneType'"
     ]
    }
   ],
   "source": [
    "for ix,x in enumerate(xvec):\n",
    "    for iy,y in enumerate(yvec):\n",
    "        i = FP_iterateur(0,0,x,y,limIter=100)\n",
    "        if(i==100):  \n",
    "            figure[ix,iy] = 0\n",
    "        else:\n",
    "            figure[ix,iy] = 255"
   ]
  },
  {
   "cell_type": "code",
   "execution_count": null,
   "metadata": {},
   "outputs": [],
   "source": []
  }
 ],
 "metadata": {
  "interpreter": {
   "hash": "2823d83d0138f4e88bebb1ac6893599dadbc35aa0bdabe1fb606adea8faab8b6"
  },
  "kernelspec": {
   "display_name": "Python 3.10.0 64-bit",
   "language": "python",
   "name": "python3"
  },
  "language_info": {
   "codemirror_mode": {
    "name": "ipython",
    "version": 3
   },
   "file_extension": ".py",
   "mimetype": "text/x-python",
   "name": "python",
   "nbconvert_exporter": "python",
   "pygments_lexer": "ipython3",
   "version": "3.10.0"
  },
  "orig_nbformat": 4
 },
 "nbformat": 4,
 "nbformat_minor": 2
}
