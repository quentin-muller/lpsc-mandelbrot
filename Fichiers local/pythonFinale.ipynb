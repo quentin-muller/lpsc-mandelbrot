{
 "cells": [
  {
   "cell_type": "code",
   "execution_count": 7,
   "metadata": {},
   "outputs": [],
   "source": [
    "import numpy as np\n",
    "import matplotlib.pyplot as plt\n",
    "\n",
    "from fixedpoint import FixedPoint"
   ]
  },
  {
   "cell_type": "code",
   "execution_count": 8,
   "metadata": {},
   "outputs": [],
   "source": [
    "def generateurMandelbrot(z_re, z_im, c_re, c_im):\n",
    "    z2_re = z_re**2\n",
    "    z2_im = z_im**2\n",
    "    r2 = z2_re + z_im\n",
    "\n",
    "    z_re1 = z2_re - z2_im + c_re\n",
    "    z_im1 = 2 * z_re*z_im + c_im\n",
    "\n",
    "    # entre chaque calcul tronc n apres la virgule n > m\n",
    "\n",
    "    return z_re1, z_im1, r2\n",
    "\n",
    "def iterateur(z_re, z_im, c_re, c_im, limR=4, limIter=100):\n",
    "    iteration = 0\n",
    "    r2 = 0\n",
    "    while((r2 < limR) and (iteration < limIter)):\n",
    "        (z_re, z_im, r2) = generateurMandelbrot(z_re, z_im, c_re, c_im)\n",
    "        iteration += 1\n",
    "    return iteration"
   ]
  },
  {
   "cell_type": "code",
   "execution_count": 9,
   "metadata": {},
   "outputs": [],
   "source": [
    "m = 4\n",
    "n = 14\n",
    "\n",
    "def createFP(v):\n",
    "    return FixedPoint(v, m=m, n=n, signed=True, str_base=2)\n",
    "\n",
    "def resize(x : FixedPoint):\n",
    "    #x_str = str(x)\n",
    "    x_str = f\"{x.bits:0{x.m+x.n}b}\"\n",
    "    new = f\"0b{x_str[x.m-m:x.m+n]}\"\n",
    "    #print(f\"[{start}:{end}] -> {new}\")\n",
    "    return FixedPoint(new, m=m, n=n, signed=True, str_base=2)\n",
    "\n",
    "def FP_generateurMandelbrot(z_re : FixedPoint, z_im : FixedPoint, c_re : FixedPoint, c_im : FixedPoint):  \n",
    "    z2_re = z_re*z_re\n",
    "    z2_re = resize(z2_re)\n",
    "\n",
    "    z2_im = z_im*z_im\n",
    "    z2_im = resize(z2_im)\n",
    "\n",
    "    r2 = z2_re + z_im\n",
    "    r2 = resize(r2)\n",
    "\n",
    "    z_re1_int = z2_re - z2_im   \n",
    "    z_re1_int = resize(z_re1_int)\n",
    "    z_re1_int = z_re1_int + c_re\n",
    "    z_re1 = resize(z_re1_int)\n",
    "\n",
    "    z_im1_int = 2 * z_re\n",
    "    z_im1_int = resize(z_im1_int)\n",
    "    z_im1_int = z_im1_int*z_im\n",
    "    z_im1_int = resize(z_im1_int)\n",
    "    z_im1_int = z_im1_int + c_im\n",
    "    z_im1 = resize(z_im1_int)\n",
    "    # entre chaque calcul tronc n apres la virgule n > m\n",
    "\n",
    "    return z_re1, z_im1, r2\n",
    "\n",
    "def FP_iterateur(z_re, z_im, c_re, c_im, limR=4, limIter=100, save=False):\n",
    "    iteration = 0\n",
    "    r2 = 0\n",
    "    if save:\n",
    "        tabZ_re = []\n",
    "        tabZ_im = []\n",
    "    # prepare for FixedPoint  \n",
    "    z_re = createFP(z_re)\n",
    "    z_im = createFP(z_im)\n",
    "    c_re = createFP(c_re)\n",
    "    c_im = createFP(c_im)\n",
    "    limFP = createFP(limR)\n",
    "    while((r2 < limFP) and (iteration < limIter)):\n",
    "        (z_re, z_im, r2) = FP_generateurMandelbrot(z_re, z_im, c_re, c_im)\n",
    "        if save:\n",
    "            tabZ_re.append(z_re)\n",
    "            tabZ_im.append(z_im)\n",
    "        #print(float(r2))\n",
    "        iteration += 1\n",
    "    if save:\n",
    "        return iteration, tabZ_re, tabZ_im\n",
    "    return iteration"
   ]
  },
  {
   "cell_type": "code",
   "execution_count": 10,
   "metadata": {},
   "outputs": [],
   "source": [
    "xlim = 612\n",
    "ylim = 300\n",
    "limI = 50\n",
    "figure_float = np.zeros((xlim,ylim))\n",
    "figure_fixed = np.zeros((xlim,ylim))\n",
    "error = np.zeros((xlim,ylim))\n",
    "xvec = np.linspace(-2,1,xlim)\n",
    "yvec = np.linspace(-1,1,ylim)"
   ]
  },
  {
   "cell_type": "code",
   "execution_count": 11,
   "metadata": {},
   "outputs": [],
   "source": [
    "for ix,x in enumerate(xvec):\n",
    "    for iy,y in enumerate(yvec):\n",
    "        figure_float[ix,iy] = iterateur(0,0,x,y,limIter=limI)"
   ]
  },
  {
   "cell_type": "code",
   "execution_count": 12,
   "metadata": {},
   "outputs": [],
   "source": [
    "for ix,x in enumerate(xvec):\n",
    "    for iy,y in enumerate(yvec):\n",
    "        figure_fixed[ix,iy] = FP_iterateur(0,0,x,y,limIter=limI)\n",
    "            "
   ]
  },
  {
   "cell_type": "code",
   "execution_count": null,
   "metadata": {},
   "outputs": [],
   "source": [
    "for ix,x in enumerate(xvec):\n",
    "    for iy,y in enumerate(yvec):\n",
    "        error = abs(figure_float[ix,iy] - figure_fixed[ix,iy])"
   ]
  },
  {
   "cell_type": "code",
   "execution_count": null,
   "metadata": {},
   "outputs": [],
   "source": [
    "plt.figure()\n",
    "plt.imshow(figure_float.T)\n",
    "plt.title(\"Virgule flottante\")\n",
    "plt.show()\n",
    "\n",
    "plt.figure()\n",
    "plt.imshow(figure_fixed.T)\n",
    "plt.title(\"Virgule fixe\")\n",
    "plt.show()\n",
    "\n",
    "plt.figure()\n",
    "plt.imshow(error.T)\n",
    "plt.title(\"Erreur entre vrigule flottante et fixe\")\n",
    "plt.show()"
   ]
  }
 ],
 "metadata": {
  "interpreter": {
   "hash": "2823d83d0138f4e88bebb1ac6893599dadbc35aa0bdabe1fb606adea8faab8b6"
  },
  "kernelspec": {
   "display_name": "Python 3.10.0 64-bit",
   "language": "python",
   "name": "python3"
  },
  "language_info": {
   "codemirror_mode": {
    "name": "ipython",
    "version": 3
   },
   "file_extension": ".py",
   "mimetype": "text/x-python",
   "name": "python",
   "nbconvert_exporter": "python",
   "pygments_lexer": "ipython3",
   "version": "3.10.0"
  },
  "orig_nbformat": 4
 },
 "nbformat": 4,
 "nbformat_minor": 2
}
